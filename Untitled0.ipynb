{
  "nbformat": 4,
  "nbformat_minor": 0,
  "metadata": {
    "colab": {
      "provenance": []
    },
    "kernelspec": {
      "name": "python3",
      "display_name": "Python 3"
    },
    "language_info": {
      "name": "python"
    }
  },
  "cells": [
    {
      "cell_type": "code",
      "execution_count": null,
      "metadata": {
        "id": "nLwRZ7bqlFuA"
      },
      "outputs": [],
      "source": []
    },
    {
      "cell_type": "code",
      "source": [
        "# This is a test"
      ],
      "metadata": {
        "id": "5ylusFb7lG3A"
      },
      "execution_count": null,
      "outputs": []
    },
    {
      "cell_type": "markdown",
      "source": [
        "# This is a test"
      ],
      "metadata": {
        "id": "AbsiGZOQlS0S"
      }
    },
    {
      "cell_type": "markdown",
      "source": [
        "# Test 1 2 3"
      ],
      "metadata": {
        "id": "gdRHTaRKlXGG"
      }
    }
  ]
}